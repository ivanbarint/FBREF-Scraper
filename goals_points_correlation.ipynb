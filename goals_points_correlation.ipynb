{
 "cells": [
  {
   "cell_type": "code",
   "execution_count": 2,
   "id": "f194ccb4",
   "metadata": {},
   "outputs": [],
   "source": [
    "import pandas as pd\n",
    "import numpy as np\n",
    "\n",
    "import time\n",
    "\n",
    "import seaborn as sns\n",
    "import matplotlib.pyplot as plt\n",
    "\n",
    "from sklearn.model_selection import train_test_split\n",
    "from sklearn.linear_model import LinearRegression\n",
    "from sklearn.metrics import r2_score\n",
    "\n",
    "import warnings\n",
    "warnings.filterwarnings('ignore')"
   ]
  },
  {
   "cell_type": "code",
   "execution_count": 3,
   "id": "357c7a32",
   "metadata": {},
   "outputs": [],
   "source": [
    "import player_stats"
   ]
  },
  {
   "cell_type": "code",
   "execution_count": 4,
   "id": "bbc85aa9",
   "metadata": {},
   "outputs": [],
   "source": [
    "positions = ['FW', 'MF', 'DF', 'GK']"
   ]
  },
  {
   "cell_type": "markdown",
   "id": "6e9586a5",
   "metadata": {},
   "source": [
    "## ENGLAND"
   ]
  },
  {
   "cell_type": "code",
   "execution_count": 5,
   "id": "aa9f1347",
   "metadata": {
    "scrolled": true
   },
   "outputs": [
    {
     "name": "stdout",
     "output_type": "stream",
     "text": [
      "FW\n",
      "minutes_90s        0.087693\n",
      "points_per_game    1.000000\n",
      "ga90               0.543082\n",
      "xga90              0.533957\n",
      "gc90               0.394921\n",
      "Name: points_per_game, dtype: float64\n",
      "MF\n",
      "minutes_90s       -0.009981\n",
      "points_per_game    1.000000\n",
      "ga90               0.397976\n",
      "xga90              0.330946\n",
      "gc90               0.335706\n",
      "Name: points_per_game, dtype: float64\n",
      "DF\n",
      "minutes_90s       -0.040468\n",
      "points_per_game    1.000000\n",
      "ga90               0.313756\n",
      "xga90              0.240538\n",
      "gc90               0.271961\n",
      "Name: points_per_game, dtype: float64\n"
     ]
    }
   ],
   "source": [
    "df = pd.DataFrame()\n",
    "\n",
    "for i in range(2020, 2022):\n",
    "    stats = player_stats.player_stats(\"eng\", i, \"stats\")\n",
    "    stats = stats.set_index('player_id')\n",
    "    playing_time = player_stats.player_stats(\"eng\", i, \"playingtime\")\n",
    "    playing_time = playing_time.loc[playing_time['games'] > 0]\n",
    "    playing_time = playing_time.set_index('player_id')\n",
    "\n",
    "    new_df = pd.concat([stats, playing_time], axis = 1)\n",
    "\n",
    "    new_df['season'] = f\"{str(i)}-{str(i+1)}\"\n",
    "\n",
    "    df = pd.concat([df, new_df])\n",
    "\n",
    "df = df.loc[:,~df.columns.duplicated()]\n",
    "df = df.reset_index()\n",
    "df = df.loc[df['minutes_90s'] > 10]\n",
    "df['position'] = df['position'].str[:2]\n",
    "\n",
    "df['gls_value'] = round(df['goals'] * (1 + (df['goals'] / df['xg'])), 3)\n",
    "df['gls_contributed'] = df['gls_value'] + df['xg_assist']\n",
    "\n",
    "df['gls_ast'] = df['goals'] + df['assists']\n",
    "df['expected'] = df['xg'] + df['xg_assist']\n",
    "\n",
    "df['ga90'] = round(df['gls_ast'] / df['minutes_90s'], 2)\n",
    "df['xga90'] = round(df['expected'] / df['minutes_90s'], 2)\n",
    "df['gc90'] = round(df['gls_contributed'] / df['minutes_90s'], 2)\n",
    "\n",
    "df = df.sort_values(by = 'gls_contributed', ascending = False)\n",
    "\n",
    "df = df[['player_id', 'player', 'position', 'season', 'team', 'minutes_90s', 'points_per_game', 'ga90', 'xga90', 'gc90']]\n",
    "\n",
    "df = df.dropna()\n",
    "\n",
    "for pos in positions:\n",
    "\n",
    "    pos_df = df.loc[df['position'] == pos]\n",
    "    pos_df = pos_df.select_dtypes(include=['number'])\n",
    "\n",
    "    if len(pos_df) >= 10:\n",
    "\n",
    "        print(pos)\n",
    "\n",
    "        corr_matrix = pos_df.corr()\n",
    "        corr_matrix = corr_matrix.loc['points_per_game']\n",
    "        print(corr_matrix)\n",
    "\n",
    "    else: pass"
   ]
  },
  {
   "cell_type": "code",
   "execution_count": null,
   "id": "868921c2",
   "metadata": {},
   "outputs": [],
   "source": []
  }
 ],
 "metadata": {
  "kernelspec": {
   "display_name": "Python 3 (ipykernel)",
   "language": "python",
   "name": "python3"
  },
  "language_info": {
   "codemirror_mode": {
    "name": "ipython",
    "version": 3
   },
   "file_extension": ".py",
   "mimetype": "text/x-python",
   "name": "python",
   "nbconvert_exporter": "python",
   "pygments_lexer": "ipython3",
   "version": "3.9.6"
  }
 },
 "nbformat": 4,
 "nbformat_minor": 5
}
