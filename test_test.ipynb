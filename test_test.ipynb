{
 "cells": [
  {
   "cell_type": "code",
   "execution_count": 132,
   "id": "43200fd5",
   "metadata": {},
   "outputs": [],
   "source": [
    "import warnings\n",
    "warnings.filterwarnings('ignore')"
   ]
  },
  {
   "cell_type": "code",
   "execution_count": 133,
   "id": "27a1fa29",
   "metadata": {},
   "outputs": [],
   "source": [
    "from scores_and_fixtures import season_results_and_fixtures"
   ]
  },
  {
   "cell_type": "code",
   "execution_count": 134,
   "id": "b2b51f67",
   "metadata": {},
   "outputs": [],
   "source": [
    "df = season_results_and_fixtures(\"eng\", 2020)"
   ]
  },
  {
   "cell_type": "code",
   "execution_count": 231,
   "id": "c9ea434b",
   "metadata": {},
   "outputs": [],
   "source": [
    "def get_home_lineup(comp, year, home_team, away_team):\n",
    "    \n",
    "    from scores_and_fixtures import season_results_and_fixtures\n",
    "    from datetime import datetime\n",
    "    import pandas as pd\n",
    "    import requests\n",
    "    from bs4 import BeautifulSoup\n",
    "\n",
    "    results_df = season_results_and_fixtures(comp, year)\n",
    "    \n",
    "    for i, row in results_df.iterrows():\n",
    "        if row['home_team'].lower() == home_team.lower() and row['away_team'].lower() == away_team.lower():\n",
    "            url = f\"https://fbref.com/{row['match_url']}\"\n",
    "            resp = requests.get(url) \n",
    "            resp.encoding = 'utf-8'\n",
    "            soup = BeautifulSoup(resp.text.replace('<!--', '').replace('--!>', ''), 'html.parser')\n",
    "            \n",
    "            div_lineup_home = soup.find('div', {'class':'lineup'}, {'id':'a'})\n",
    "            numbers, player_names = [], []\n",
    "            \n",
    "            statuses = ['starter'] * 11\n",
    "            \n",
    "            players = div_lineup_home.find_all('td')\n",
    "                \n",
    "            for i, value in enumerate(players):\n",
    "                if i % 2 == 0:\n",
    "                    numbers.append(value.get_text())\n",
    "                elif i % 2 == 1: \n",
    "                    player_names.append(value.get_text())\n",
    "                    \n",
    "            df = pd.DataFrame(list(zip(numbers, player_names)), columns = ['squad_number', 'player'])\n",
    "            \n",
    "            df['status'] = 'Bench'\n",
    "            df.loc[:10, 'status'] = 'Starter'\n",
    "            \n",
    "            for i, row in df.iterrows():\n",
    "                if row['status'] == 'Starter':\n",
    "                    player_div = soup.find(\"div\", {\"title\":{row['player']}})\n",
    "                    tip = player_div[\"tip\"]  \n",
    "                    style = player_div[\"style\"]\n",
    "                    if style == \"top: calc(50% - 18px); left: calc(5% - 8px);\":\n",
    "                        print(\"GK\")\n",
    "                    elif style == \"top: calc(16.6666666666667% - 18px); left: calc(15% - 8px);\":\n",
    "                        print(\"LB\")\n",
    "                    elif style == \"top: calc(33.3333333333333% - 18px); left: calc(15% - 8px);\":\n",
    "                        print(\"LCB\")\n",
    "                    elif style == \"top: calc(66.6666666666667% - 18px); left: calc(15% - 8px);\":\n",
    "                        print(\"RCB\")\n",
    "                    elif style == \"top: calc(83.3333333333333% - 18px); left: calc(15% - 8px);\":\n",
    "                        print(\"RB\")\n",
    "                    elif style == \"top: calc(16.6666666666667% - 18px); left: calc(30% - 8px);\":\n",
    "                        print(\"LM\")\n",
    "                    elif style == \"top: calc(33.3333333333333% - 18px); left: calc(30% - 8px);\":\n",
    "                        print(\"LCM\")\n",
    "                    elif style == \"top: calc(66.6666666666667% - 18px); left: calc(30% - 8px);\":\n",
    "                        print(\"RCM\")\n",
    "                    elif style == \"top: calc(83.3333333333333% - 18px); left: calc(30% - 8px);\":\n",
    "                        print(\"RM\")\n",
    "                    elif style == \"top: calc(25% - 18px); left: calc(45% - 8px);\":\n",
    "                        print(\"LCF\")\n",
    "                    elif style == \"top: calc(75% - 18px); left: calc(45% - 8px);\":\n",
    "                        print(\"RCF\")\n",
    "                        \n",
    "            print(url)\n",
    "\n",
    "    return df"
   ]
  },
  {
   "cell_type": "code",
   "execution_count": 232,
   "id": "ca773979",
   "metadata": {},
   "outputs": [
    {
     "name": "stdout",
     "output_type": "stream",
     "text": [
      "GK\n",
      "RB\n",
      "LB\n",
      "LCM\n",
      "RCB\n",
      "LCB\n",
      "RM\n",
      "RCF\n",
      "LM\n",
      "RCM\n",
      "LCF\n",
      "https://fbref.com//en/matches/4eb36e37/Burnley-Brighton-and-Hove-Albion-August-14-2021-Premier-League\n"
     ]
    }
   ],
   "source": [
    "df = get_home_lineup(\"eng\", 2021, \"Burnley\", \"Brighton\")"
   ]
  },
  {
   "cell_type": "code",
   "execution_count": null,
   "id": "3b5e90f7",
   "metadata": {},
   "outputs": [],
   "source": [
    "<div title=\"Jay Rodriguez\" tip=\"<img style='height:100px;width:100px;' src='https://fbref.com/req/202302030/images/headshots/4ab53cdb_2022.jpg'><br><strong>Jay Rodriguez</strong>\" class=\"poptip a\" style=\"top: calc(25% - 18px); left: calc(45% - 8px);\">19</div>"
   ]
  },
  {
   "cell_type": "code",
   "execution_count": null,
   "id": "0ff84b9a",
   "metadata": {},
   "outputs": [],
   "source": []
  }
 ],
 "metadata": {
  "kernelspec": {
   "display_name": "Python 3 (ipykernel)",
   "language": "python",
   "name": "python3"
  },
  "language_info": {
   "codemirror_mode": {
    "name": "ipython",
    "version": 3
   },
   "file_extension": ".py",
   "mimetype": "text/x-python",
   "name": "python",
   "nbconvert_exporter": "python",
   "pygments_lexer": "ipython3",
   "version": "3.9.6"
  }
 },
 "nbformat": 4,
 "nbformat_minor": 5
}
