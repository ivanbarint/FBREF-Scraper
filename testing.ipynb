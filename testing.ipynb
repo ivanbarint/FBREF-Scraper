{
 "cells": [
  {
   "cell_type": "code",
   "execution_count": 1,
   "id": "e8dbed99",
   "metadata": {},
   "outputs": [],
   "source": [
    "import pandas as pd\n",
    "import numpy as np\n",
    "\n",
    "import requests\n",
    "from bs4 import BeautifulSoup\n",
    "\n",
    "import time\n",
    "\n",
    "import warnings\n",
    "warnings.filterwarnings('ignore')"
   ]
  },
  {
   "cell_type": "code",
   "execution_count": 2,
   "id": "69df5a0d",
   "metadata": {},
   "outputs": [],
   "source": [
    "season = \"2023-2024\""
   ]
  },
  {
   "cell_type": "code",
   "execution_count": 47,
   "id": "7f83fd6c",
   "metadata": {},
   "outputs": [],
   "source": [
    "url = \"https://fbref.com/en/comps/11/2023-2024/keepers/2023-2024-Serie-A-Stats\""
   ]
  },
  {
   "cell_type": "code",
   "execution_count": 63,
   "id": "1315672d",
   "metadata": {},
   "outputs": [],
   "source": [
    "resp = requests.get(url)\n",
    "resp.encoding = 'utf-8'\n",
    "soup = BeautifulSoup(resp.text.replace('<!--', '').replace('--!>', ''), 'html.parser')\n",
    "\n",
    "headers, rows = [], []\n",
    "\n",
    "table_data = soup.find_all('tbody')[2]\n",
    "table_rows = table_data.find_all('tr')\n",
    "\n",
    "for value in table_rows[0]:\n",
    "    headers.append(value.get('data-stat'))\n",
    "\n",
    "for row in table_rows:\n",
    "    row_values = []\n",
    "    row_data = row.find_all('td')\n",
    "    for data_value in row_data:\n",
    "        if data_value.get('data-append-csv'):\n",
    "            row_values.append(data_value.get('data-append-csv'))\n",
    "        row_values.append(data_value.get_text())\n",
    "    rows.append(row_values)\n",
    "\n",
    "df = pd.DataFrame(rows, columns = headers).fillna(0.0)\n",
    "df = df.loc[df['player'] != 0].reset_index(drop = True)\n",
    "\n",
    "df['gk_minutes'] = df['gk_minutes'].str.replace(',', '')\n",
    "\n",
    "for i, row in df.iterrows():\n",
    "    try:\n",
    "        if '-' in row['age']:\n",
    "            age_num = row['age'].split('-')[0]\n",
    "            df.at[i, 'age'] = age_num\n",
    "    except: pass\n",
    "\n",
    "df.rename(columns={'ranker' : 'player_id'}, inplace=True)\n",
    "df = df.apply(pd.to_numeric, errors = 'ignore')"
   ]
  },
  {
   "cell_type": "code",
   "execution_count": 65,
   "id": "d0038d77",
   "metadata": {},
   "outputs": [
    {
     "data": {
      "text/plain": [
       "player_id                      object\n",
       "player                         object\n",
       "nationality                    object\n",
       "position                       object\n",
       "team                           object\n",
       "age                             int64\n",
       "birth_year                      int64\n",
       "gk_games                        int64\n",
       "gk_games_starts                 int64\n",
       "gk_minutes                      int64\n",
       "minutes_90s                   float64\n",
       "gk_goals_against                int64\n",
       "gk_goals_against_per90        float64\n",
       "gk_shots_on_target_against      int64\n",
       "gk_saves                        int64\n",
       "gk_save_pct                   float64\n",
       "gk_wins                         int64\n",
       "gk_ties                         int64\n",
       "gk_losses                       int64\n",
       "gk_clean_sheets                 int64\n",
       "gk_clean_sheets_pct           float64\n",
       "gk_pens_att                     int64\n",
       "gk_pens_allowed                 int64\n",
       "gk_pens_saved                   int64\n",
       "gk_pens_missed                  int64\n",
       "gk_pens_save_pct              float64\n",
       "matches                        object\n",
       "dtype: object"
      ]
     },
     "execution_count": 65,
     "metadata": {},
     "output_type": "execute_result"
    }
   ],
   "source": [
    "df.dtypes"
   ]
  },
  {
   "cell_type": "code",
   "execution_count": null,
   "id": "790da74e",
   "metadata": {},
   "outputs": [],
   "source": []
  }
 ],
 "metadata": {
  "kernelspec": {
   "display_name": "Python 3 (ipykernel)",
   "language": "python",
   "name": "python3"
  },
  "language_info": {
   "codemirror_mode": {
    "name": "ipython",
    "version": 3
   },
   "file_extension": ".py",
   "mimetype": "text/x-python",
   "name": "python",
   "nbconvert_exporter": "python",
   "pygments_lexer": "ipython3",
   "version": "3.9.6"
  }
 },
 "nbformat": 4,
 "nbformat_minor": 5
}
